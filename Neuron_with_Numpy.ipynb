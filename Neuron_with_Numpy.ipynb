{
 "cells": [
  {
   "cell_type": "code",
   "execution_count": 1,
   "id": "fc4caffe",
   "metadata": {},
   "outputs": [],
   "source": [
    "import numpy as np"
   ]
  },
  {
   "cell_type": "code",
   "execution_count": null,
   "id": "dce695ae",
   "metadata": {},
   "outputs": [],
   "source": [
    "#Itt megcsinálunk 1 darab neuront, hogy hogyan is működik, hogy megy bele, stb."
   ]
  },
  {
   "cell_type": "code",
   "execution_count": 8,
   "id": "aa6539c1",
   "metadata": {},
   "outputs": [],
   "source": [
    "inputs = [1.3, 3.4, 5.1, 5.4]\n",
    "weights = np.random.rand(4) - 0.5\n",
    "bias = 2.0"
   ]
  },
  {
   "cell_type": "code",
   "execution_count": null,
   "id": "c37a570c",
   "metadata": {},
   "outputs": [],
   "source": [
    "#Ezután mnt edidg összeszorozzuk az összetartozó értékeket"
   ]
  },
  {
   "cell_type": "code",
   "execution_count": 9,
   "id": "862e6d13",
   "metadata": {},
   "outputs": [
    {
     "name": "stdout",
     "output_type": "stream",
     "text": [
      "-1.683360701902052\n"
     ]
    }
   ],
   "source": [
    "output = np.dot(weights, inputs) + bias\n",
    "print(output)"
   ]
  },
  {
   "cell_type": "code",
   "execution_count": 10,
   "id": "55b931a6",
   "metadata": {},
   "outputs": [],
   "source": [
    "#Most megcsinálunk egy szintet ezekből a Neuronokból. Egy olyan szintet hozunk létre ami 3 darab neuronból áll"
   ]
  },
  {
   "cell_type": "code",
   "execution_count": 55,
   "id": "f70fd82d",
   "metadata": {},
   "outputs": [
    {
     "name": "stdout",
     "output_type": "stream",
     "text": [
      "[0.44972162 3.07863582 1.93776089]\n"
     ]
    }
   ],
   "source": [
    "inputs = [1.3, 3.4, 5.1, 4]\n",
    "weight = np.random.rand(3, 4) - 0.5\n",
    "bias = [2.0, 3.0, 0.5]\n",
    "\n",
    "layer_out = np.dot(weight, inputs) + bias\n",
    "print(layer_out)"
   ]
  },
  {
   "cell_type": "code",
   "execution_count": 19,
   "id": "622de12c",
   "metadata": {},
   "outputs": [],
   "source": [
    "#Most csináljuk meg úgy, hogy ez akár később meghívható is legyen"
   ]
  },
  {
   "cell_type": "code",
   "execution_count": 87,
   "id": "1bc860c2",
   "metadata": {},
   "outputs": [],
   "source": [
    "def sigmoid(x):\n",
    "        return 1/(1+np.exp(-x))\n",
    "\n",
    "class Layer():\n",
    "    def __init__(self, inputs, weights, bias):\n",
    "        self.input = inputs\n",
    "        self.weight = weights\n",
    "        self.bias = bias\n",
    "    \n",
    "    def forward(self):\n",
    "        output = np.dot(self.weight, self.input) + bias\n",
    "        return sigmoid(output)"
   ]
  },
  {
   "cell_type": "code",
   "execution_count": 88,
   "id": "1b3ec5cc",
   "metadata": {},
   "outputs": [],
   "source": [
    "h1 = Layer(inputs, weight, bias)"
   ]
  },
  {
   "cell_type": "code",
   "execution_count": 97,
   "id": "1536c6e7",
   "metadata": {},
   "outputs": [
    {
     "data": {
      "text/plain": [
       "array([0.61057304, 0.95600284, 0.87410595])"
      ]
     },
     "execution_count": 97,
     "metadata": {},
     "output_type": "execute_result"
    }
   ],
   "source": [
    "h1.forward()"
   ]
  }
 ],
 "metadata": {
  "kernelspec": {
   "display_name": "Python 3",
   "language": "python",
   "name": "python3"
  },
  "language_info": {
   "codemirror_mode": {
    "name": "ipython",
    "version": 3
   },
   "file_extension": ".py",
   "mimetype": "text/x-python",
   "name": "python",
   "nbconvert_exporter": "python",
   "pygments_lexer": "ipython3",
   "version": "3.8.8"
  }
 },
 "nbformat": 4,
 "nbformat_minor": 5
}
